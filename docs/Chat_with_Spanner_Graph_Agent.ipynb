{
  "nbformat": 4,
  "nbformat_minor": 0,
  "metadata": {
    "colab": {
      "provenance": [],
      "include_colab_link": true
    },
    "kernelspec": {
      "name": "python3",
      "display_name": "Python 3"
    },
    "language_info": {
      "name": "python"
    }
  },
  "cells": [
    {
      "cell_type": "markdown",
      "metadata": {
        "id": "view-in-github",
        "colab_type": "text"
      },
      "source": [
        "<a href=\"https://colab.research.google.com/github/mtyin/spanner-graph-agent/blob/main/docs/Chat_with_Spanner_Graph_Agent.ipynb\" target=\"_parent\"><img src=\"https://colab.research.google.com/assets/colab-badge.svg\" alt=\"Open In Colab\"/></a>"
      ]
    },
    {
      "cell_type": "markdown",
      "source": [
        "# Overview\n",
        "\n",
        "This colab walks through how to chat with your Spanner Graph using natural language and provide some tips on addressing some common practical issues along the way.\n",
        "\n"
      ],
      "metadata": {
        "id": "oousJabC2K2c"
      }
    },
    {
      "cell_type": "markdown",
      "source": [
        "# Setup"
      ],
      "metadata": {
        "id": "kgJWdQol2aJS"
      }
    },
    {
      "cell_type": "code",
      "source": [
        "# @title Authentication\n",
        "\n",
        "from google.colab import auth\n",
        "auth.authenticate_user()"
      ],
      "metadata": {
        "cellView": "form",
        "id": "iyM8ug8dXqtP"
      },
      "execution_count": null,
      "outputs": []
    },
    {
      "cell_type": "code",
      "execution_count": null,
      "metadata": {
        "id": "oTZK4jScUg36",
        "colab": {
          "base_uri": "https://localhost:8080/"
        },
        "outputId": "ee6d8d74-723e-4435-bbff-c14e72b7565c"
      },
      "outputs": [
        {
          "output_type": "stream",
          "name": "stdout",
          "text": [
            "Collecting langchain-google-spanner@ git+https://github.com/mtyin/langchain-google-spanner-python@multiplex\n",
            "  Cloning https://github.com/mtyin/langchain-google-spanner-python (to revision multiplex) to /tmp/pip-install-a6lnl4qi/langchain-google-spanner_8650971cde9b4d198788acd84fee17d8\n",
            "  Running command git clone --filter=blob:none --quiet https://github.com/mtyin/langchain-google-spanner-python /tmp/pip-install-a6lnl4qi/langchain-google-spanner_8650971cde9b4d198788acd84fee17d8\n",
            "  Running command git checkout -b multiplex --track origin/multiplex\n",
            "  Switched to a new branch 'multiplex'\n",
            "  Branch 'multiplex' set up to track remote branch 'multiplex' from 'origin'.\n",
            "  Resolved https://github.com/mtyin/langchain-google-spanner-python to commit 349261ab1ed4c22bfb9305758706af6b0364d847\n",
            "  Installing build dependencies ... \u001b[?25l\u001b[?25hdone\n",
            "  Getting requirements to build wheel ... \u001b[?25l\u001b[?25hdone\n",
            "  Preparing metadata (pyproject.toml) ... \u001b[?25l\u001b[?25hdone\n",
            "Building wheels for collected packages: langchain-google-spanner\n",
            "  Building wheel for langchain-google-spanner (pyproject.toml) ... \u001b[?25l\u001b[?25hdone\n",
            "  Created wheel for langchain-google-spanner: filename=langchain_google_spanner-0.8.2-py3-none-any.whl size=53804 sha256=946ca2a8a0d17fdaf0f07b0dbf8506f8a5a1d4ebf9ac0462fbd2fecba98a8eb2\n",
            "  Stored in directory: /tmp/pip-ephem-wheel-cache-lpvnk9zx/wheels/62/ca/1d/d243dc94c623f325bd0ba2380a934d5bed03655839f31e6fc6\n",
            "Successfully built langchain-google-spanner\n",
            "Installing collected packages: langchain-google-spanner\n",
            "  Attempting uninstall: langchain-google-spanner\n",
            "    Found existing installation: langchain-google-spanner 0.8.2\n",
            "    Uninstalling langchain-google-spanner-0.8.2:\n",
            "      Successfully uninstalled langchain-google-spanner-0.8.2\n",
            "Successfully installed langchain-google-spanner-0.8.2\n",
            "  Installing build dependencies ... \u001b[?25l\u001b[?25hdone\n",
            "  Getting requirements to build wheel ... \u001b[?25l\u001b[?25hdone\n",
            "  Preparing metadata (pyproject.toml) ... \u001b[?25l\u001b[?25hdone\n"
          ]
        }
      ],
      "source": [
        "# @title Install the Spanner Graph Agent package\n",
        "!pip install --force-reinstall --no-deps langchain-google-spanner@git+https://github.com/mtyin/langchain-google-spanner-python@multiplex # Delete this line when langchain-google-spanner is released with new version\n",
        "!pip install --quiet git+https://github.com/mtyin/spanner-graph-agent.git"
      ]
    },
    {
      "cell_type": "code",
      "source": [
        "# @title Set up environment\n",
        "# @markdown Please fill in the value below with your Google Cloud project ID and then run the cell.\n",
        "\n",
        "PROJECT_ID = \"\"    # @param {type:\"string\"}\n",
        "INSTANCE_ID = \"\"   # @param {type:\"string\"}\n",
        "DATABASE_ID = \"\"   # @param {type:\"string\"}\n",
        "DEFAULT_LLM_MODEL_NAME = \"gemini-2.5-flash\"                 # @param {type:\"string\"}\n",
        "DEFAULT_EMBEDDING_MODEL_NAME = \"text-embedding-004\"         # @param {type:\"string\"}\n",
        "LOG_LEVEL = 'DEBUG'                                          #@param [\"\", \"INFO\", \"DEBUG\"]\n",
        "\n",
        "# Set the project id\n",
        "!gcloud config set project {PROJECT_ID}\n",
        "%env GOOGLE_CLOUD_PROJECT={PROJECT_ID}\n",
        "\n",
        "# Set the envionrment variables\n",
        "import os\n",
        "os.environ['GOOGLE_GENAI_USE_VERTEXAI'] = 'TRUE'\n",
        "os.environ['GOOGLE_CLOUD_PROJECT'] = PROJECT_ID\n",
        "os.environ['GOOGLE_CLOUD_LOCATION'] = 'us-central1'\n",
        "\n",
        "\n",
        "# Suppress unnecessary warning from the dependency library.\n",
        "import logging\n",
        "class _NoFunctionCallWarning(logging.Filter):\n",
        "    def filter(self, record: logging.LogRecord) -> bool:\n",
        "        message = record.getMessage()\n",
        "        if \"there are non-text parts in the response:\" in message:\n",
        "            return False\n",
        "        else:\n",
        "            return True\n",
        "\n",
        "logging.getLogger(\"google_genai.types\").addFilter(_NoFunctionCallWarning())"
      ],
      "metadata": {
        "cellView": "form",
        "id": "lP8BA97AV56x"
      },
      "execution_count": null,
      "outputs": []
    },
    {
      "cell_type": "code",
      "source": [
        "# @title: Download the sample dataset\n",
        "!curl -L -o finance_data.tar.gz https://raw.githubusercontent.com/mtyin/spanner-graph-agent/main/datasets/finance/finance_data.tar.gz"
      ],
      "metadata": {
        "id": "dh1S2TQLbvFw",
        "colab": {
          "base_uri": "https://localhost:8080/"
        },
        "outputId": "542f7630-ba3c-4bda-f9a6-190af2c9eefb"
      },
      "execution_count": null,
      "outputs": [
        {
          "output_type": "stream",
          "name": "stdout",
          "text": [
            "  % Total    % Received % Xferd  Average Speed   Time    Time     Time  Current\n",
            "                                 Dload  Upload   Total   Spent    Left  Speed\n",
            "100 1590k  100 1590k    0     0  2790k      0 --:--:-- --:--:-- --:--:-- 2796k\n"
          ]
        }
      ]
    },
    {
      "cell_type": "code",
      "source": [
        "# @title: Load the sample dataset\n",
        "from spanner_graph_agent.utils.dataset import Dataset\n",
        "\n",
        "dataset = Dataset(\"finance_data.tar.gz\")\n",
        "dataset.load(INSTANCE_ID, DATABASE_ID, PROJECT_ID)"
      ],
      "metadata": {
        "id": "mH-QWGfV82dS"
      },
      "execution_count": null,
      "outputs": []
    },
    {
      "cell_type": "code",
      "source": [
        "# @title Show sample graph\n",
        "%%spanner_graph --project {PROJECT_ID} --instance {INSTANCE_ID} --database {DATABASE_ID}\n",
        "\n",
        "GRAPH FinanceGraph\n",
        "MATCH p1 = (:Person) -[:worksAt]-> (c:Company),\n",
        "      p2 = (c:Company) <-[:ownsShare]- (:Person),\n",
        "      p3 = (c:Company) <-[:ownsShare]- (:MutualFund),\n",
        "      p4 = (c:Company) <-[:ownsShare]- (:Company)\n",
        "LIMIT 100\n",
        "FOR p IN [p1, p2, p3, p4]\n",
        "RETURN SAFE_TO_JSON(p) AS p"
      ],
      "metadata": {
        "id": "rml7gq9KdAhx"
      },
      "execution_count": null,
      "outputs": []
    },
    {
      "cell_type": "code",
      "source": [
        "# @title Build the Spanner Graph Agent\n",
        "from spanner_graph_agent import SpannerGraphAgent\n",
        "from spanner_graph_agent.utils.agent_session import AgentSession\n",
        "import asyncio\n",
        "import uuid\n",
        "from google.genai import types\n",
        "from google.adk.planners import BuiltInPlanner\n",
        "from google.genai import types\n",
        "\n",
        "GRAPH_ID='FinanceGraph'\n",
        "user_id = str(uuid.uuid4())\n",
        "\n",
        "root_agent = SpannerGraphAgent(\n",
        "  instance_id=INSTANCE_ID,\n",
        "  database_id=DATABASE_ID,\n",
        "  graph_id=GRAPH_ID,\n",
        "  model=DEFAULT_LLM_MODEL_NAME,\n",
        "  agent_config={\n",
        "    \"verify_gql\": False,\n",
        "    \"log_level\": LOG_LEVEL,\n",
        "  },\n",
        "  # gemini-2.5-flash is a thinking model, set budget to 0 to reduce latency\n",
        "  planner=BuiltInPlanner(thinking_config=types.ThinkingConfig(thinking_budget=0)),\n",
        ")\n",
        "\n",
        "for tool in root_agent.tools:\n",
        "  print('============')\n",
        "  print(tool.name)\n",
        "  print(tool.description)\n"
      ],
      "metadata": {
        "id": "nUM46CS4Wa3Q",
        "colab": {
          "base_uri": "https://localhost:8080/"
        },
        "outputId": "9684a2ca-bbf1-46be-fc1c-d966e912c340"
      },
      "execution_count": null,
      "outputs": [
        {
          "output_type": "stream",
          "name": "stdout",
          "text": [
            "============\n",
            "SpannerGraphQueryQATool\n",
            "\n",
            "Answer user query by talking to the knowledge graph stored in Spanner Graph.\n",
            "\n",
            "The knowledge graph contains rich knowledge about the following node types:\n",
            "  [\n",
            " \"MutualFund\",\n",
            " \"Person\",\n",
            " \"Company\"\n",
            "]\n",
            "and the following relationships among the nodes:\n",
            "  [\n",
            " [\n",
            "  \"MutualFund\",\n",
            "  \"ownsShare\",\n",
            "  \"Company\"\n",
            " ],\n",
            " [\n",
            "  \"Person\",\n",
            "  \"ownsShare\",\n",
            "  \"Company\"\n",
            " ],\n",
            " [\n",
            "  \"Company\",\n",
            "  \"ownsShare\",\n",
            "  \"Company\"\n",
            " ],\n",
            " [\n",
            "  \"Person\",\n",
            "  \"worksAt\",\n",
            "  \"Company\"\n",
            " ]\n",
            "]\n",
            "\n",
            "This tool can directly access and query the knowledge graph. All user queries,\n",
            "after necessary node or relationship resolutions, must be passed to this tool\n",
            "to retrieve information.\n",
            "\n",
            "NOTE:\n",
            "\n",
            "* For questions with explicit node or relationships references in the graph,\n",
            "  this tool requires canonical references to the nodes and relationships\n",
            "  for optimal performance and accurate results.\n",
            "\n",
            "* BEFORE passing ANY query to this tool, FIRST and ALWAYS check if the query\n",
            "  contains any potential references to nodes or relationships: if so, you MUST\n",
            "  use the appropriate tool to obtain the canonical references.\n",
            "  Only then should you formulate the input to this tool using\n",
            "  these canonical references.\n",
            "\n",
            "* The input to this tool must explicitly refers to canonical references by\n",
            "  both the names and the values of the referenced fields.\n",
            "    For example, Node(id='abc') rather than just Node('abc').\n",
            "    Otherwise this tool don't know which fields to query against.\n",
            "\n",
            "* For queries that do not contains any specific node or relationship\n",
            "  references, the tool can directly execute the corresponding graph query\n",
            "  without requiring canonical references.\n",
            "\n"
          ]
        }
      ]
    },
    {
      "cell_type": "markdown",
      "source": [
        "### Chat with Spanner Graph"
      ],
      "metadata": {
        "id": "8Dkmbf42d-qY"
      }
    },
    {
      "cell_type": "markdown",
      "source": [
        "#### Get started"
      ],
      "metadata": {
        "id": "Yl1ulS9MjYf9"
      }
    },
    {
      "cell_type": "code",
      "source": [
        "# @title One shot questions\n",
        "\n",
        "QUERY = \"How many nodes in the graph?\"    # @param {type:\"string\"}\n",
        "\n",
        "with AgentSession(agent=root_agent, user_id=user_id) as session:\n",
        "  response =  await session.ainvoke(QUERY)\n",
        "  print(response.content.parts[0].text)"
      ],
      "metadata": {
        "id": "ZcoMtA7jWuO7",
        "colab": {
          "base_uri": "https://localhost:8080/"
        },
        "outputId": "9894ec53-68cb-4854-852d-da1086e20d46"
      },
      "execution_count": null,
      "outputs": [
        {
          "output_type": "stream",
          "name": "stderr",
          "text": [
            "DEBUG:spanner_graph_agent.spanner_graph_agent.tools.langchain_tools:Input query: `How many nodes in the graph?`\n"
          ]
        },
        {
          "output_type": "stream",
          "name": "stdout",
          "text": [
            "\n",
            "\n",
            "\u001b[1m> Entering new SpannerGraphQAChain chain...\u001b[0m\n",
            "Executing gql:\n",
            "\u001b[32;1m\u001b[1;3mGRAPH FinanceGraph\n",
            "MATCH (n)\n",
            "RETURN COUNT(n) AS total_nodes;\u001b[0m\n",
            "Full Context:\n",
            "\u001b[32;1m\u001b[1;3m[{'total_nodes': 10000}]\u001b[0m\n",
            "\n",
            "\u001b[1m> Finished chain.\u001b[0m\n",
            "The graph has 10000 nodes.\n"
          ]
        }
      ]
    },
    {
      "cell_type": "code",
      "source": [
        "# @title Conversation with memory\n",
        "import datetime\n",
        "\n",
        "QUERY = \"Who is the Chief Executive Officer in Phillips LLC?\"    # @param {type:\"string\"}\n",
        "FOLLOW_UP_QUERY = \"Does she invest into other companies?\" # @param {type:\"string\"}\n",
        "\n",
        "with AgentSession(agent=root_agent, user_id=user_id) as session:\n",
        "  response =  await session.ainvoke(QUERY)\n",
        "  print(response.content.parts[0].text)\n",
        "\n",
        "  response =  await session.ainvoke(FOLLOW_UP_QUERY)\n",
        "  print(response.content.parts[0].text)"
      ],
      "metadata": {
        "id": "qTbPfqC7dUu7",
        "colab": {
          "base_uri": "https://localhost:8080/"
        },
        "outputId": "21c6c040-37cc-4c76-fbb5-50e78f31a692"
      },
      "execution_count": null,
      "outputs": [
        {
          "output_type": "stream",
          "name": "stderr",
          "text": [
            "DEBUG:spanner_graph_agent.spanner_graph_agent.tools.langchain_tools:Input query: `Who is the Chief Executive Officer in Company(name='Phillips LLC')?`\n"
          ]
        },
        {
          "output_type": "stream",
          "name": "stdout",
          "text": [
            "\n",
            "\n",
            "\u001b[1m> Entering new SpannerGraphQAChain chain...\u001b[0m\n",
            "Executing gql:\n",
            "\u001b[32;1m\u001b[1;3mGRAPH FinanceGraph\n",
            "MATCH (p:Person)-[w:worksAt]->(c:Company WHERE c.name = 'Phillips LLC')\n",
            "WHERE w.job_title = 'Chief Executive Officer'\n",
            "RETURN p.name AS ceo_name;\u001b[0m\n",
            "Full Context:\n",
            "\u001b[32;1m\u001b[1;3m[{'ceo_name': 'Melissa Humphrey'}]\u001b[0m\n",
            "\n",
            "\u001b[1m> Finished chain.\u001b[0m\n",
            "Melissa Humphrey is the Chief Executive Officer in Phillips LLC.\n"
          ]
        },
        {
          "output_type": "stream",
          "name": "stderr",
          "text": [
            "DEBUG:spanner_graph_agent.spanner_graph_agent.tools.langchain_tools:Input query: `Does Person(name='Melissa Humphrey') invest into other companies?`\n"
          ]
        },
        {
          "output_type": "stream",
          "name": "stdout",
          "text": [
            "\n",
            "\n",
            "\u001b[1m> Entering new SpannerGraphQAChain chain...\u001b[0m\n",
            "Executing gql:\n",
            "\u001b[32;1m\u001b[1;3mGRAPH FinanceGraph\n",
            "MATCH (p:Person WHERE p.name = 'Melissa Humphrey')-[:ownsShare]->(c:Company)\n",
            "RETURN p.name AS investor_name, c.name AS invested_company_name\u001b[0m\n",
            "Full Context:\n",
            "\u001b[32;1m\u001b[1;3m[{'investor_name': 'Melissa Humphrey', 'invested_company_name': 'Mccarthy, Myers and Hernandez'}, {'investor_name': 'Melissa Humphrey', 'invested_company_name': 'Gonzales-Dixon'}, {'investor_name': 'Melissa Humphrey', 'invested_company_name': 'Walker, Jones and Howard'}]\u001b[0m\n",
            "\n",
            "\u001b[1m> Finished chain.\u001b[0m\n",
            "Melissa Humphrey invests in Mccarthy, Myers and Hernandez, Gonzales-Dixon, and Walker, Jones and Howard.\n"
          ]
        }
      ]
    },
    {
      "cell_type": "markdown",
      "source": [
        "#### Challenges: LLM can generate incorrect GQL query syntax\n",
        "\n",
        "The challenge: to be elaborate.\n",
        "\n",
        "The solution: to be elaborate.\n",
        "* LLM is pretty good at generalizing over a few examples"
      ],
      "metadata": {
        "id": "F7vwNTfOeR_5"
      }
    },
    {
      "cell_type": "code",
      "source": [
        "# @title An example of incorrect GQL syntax\n",
        "\n",
        "QUERY = \"Which person invests into more than 10 companies?\"    # @param {type:\"string\"}\n",
        "\n",
        "with AgentSession(agent=root_agent, user_id=user_id) as session:\n",
        "  response =  await session.ainvoke(QUERY)\n",
        "  print(response.content.parts[0].text)"
      ],
      "metadata": {
        "id": "tHdjKD-Kh2qx",
        "colab": {
          "base_uri": "https://localhost:8080/"
        },
        "outputId": "7704efbc-f95f-485c-ed52-f23daccb4d48"
      },
      "execution_count": null,
      "outputs": [
        {
          "output_type": "stream",
          "name": "stderr",
          "text": [
            "DEBUG:spanner_graph_agent.spanner_graph_agent.tools.langchain_tools:Input query: `Which person invests into more than 10 companies?`\n"
          ]
        },
        {
          "output_type": "stream",
          "name": "stdout",
          "text": [
            "\n",
            "\n",
            "\u001b[1m> Entering new SpannerGraphQAChain chain...\u001b[0m\n",
            "Executing gql:\n",
            "\u001b[32;1m\u001b[1;3mGRAPH FinanceGraph\n",
            "MATCH (p:Person)-[:ownsShare]->(c:Company)\n",
            "GROUP BY p\n",
            "HAVING COUNT(DISTINCT c) > 10\n",
            "RETURN p.name as person_name\u001b[0m\n",
            "Invalid generated gql:\n",
            "\u001b[31;1m\u001b[1;3mGRAPH FinanceGraph\n",
            "MATCH (p:Person)-[:ownsShare]->(c:Company)\n",
            "GROUP BY p\n",
            "HAVING COUNT(DISTINCT c) > 10\n",
            "RETURN p.name as person_name\u001b[0m\n",
            "\u001b[31;1m\u001b[1;3mQuery error: \u001b[0m\n",
            "\u001b[31;1m\u001b[1;3m400 Syntax error: Unexpected keyword GROUP [at 3:1]\\nGROUP BY p\\n^ [locale: \"en-US\"\n",
            "message: \"Syntax error: Unexpected keyword GROUP [at 3:1]\\nGROUP BY p\\n^\"\n",
            "]\u001b[0m\n",
            "Executing gql:\n",
            "\u001b[32;1m\u001b[1;3mGRAPH FinanceGraph\n",
            "MATCH (p:Person)-[:ownsShare]->(c:Company)\n",
            "RETURN p, COUNT(DISTINCT c) AS num_companies_invested_in\n",
            "GROUP BY p\n",
            "HAVING num_companies_invested_in > 10\n",
            "\n",
            "NEXT\n",
            "RETURN p.name AS person_name;\u001b[0m\n",
            "Invalid generated gql:\n",
            "\u001b[31;1m\u001b[1;3mGRAPH FinanceGraph\n",
            "MATCH (p:Person)-[:ownsShare]->(c:Company)\n",
            "RETURN p, COUNT(DISTINCT c) AS num_companies_invested_in\n",
            "GROUP BY p\n",
            "HAVING num_companies_invested_in > 10\n",
            "\n",
            "NEXT\n",
            "RETURN p.name AS person_name;\u001b[0m\n",
            "\u001b[31;1m\u001b[1;3mQuery error: \u001b[0m\n",
            "\u001b[31;1m\u001b[1;3m400 Syntax error: Expected \\\";\\\" or end of input but got keyword HAVING [at 5:1]\\nHAVING num_companies_invested_in > 10\\n^ [locale: \"en-US\"\n",
            "message: \"Syntax error: Expected \\\";\\\" or end of input but got keyword HAVING [at 5:1]\\nHAVING num_companies_invested_in > 10\\n^\"\n",
            "]\u001b[0m\n"
          ]
        },
        {
          "output_type": "stream",
          "name": "stderr",
          "text": [
            "ERROR:spanner_graph_agent.spanner_graph_agent.tools.langchain_tools:Failed QA chain invocation: The generated gql query is invalid\n"
          ]
        },
        {
          "output_type": "stream",
          "name": "stdout",
          "text": [
            "I don't know which person invests in more than 10 companies.\n"
          ]
        }
      ]
    },
    {
      "cell_type": "code",
      "source": [
        "# @title Build the Spanner Graph Agent with example table\n",
        "\n",
        "GQL_EXAMPLE_TABLE = \"gql_examples\"   # @param {type:\"string\"}\n",
        "root_agent = SpannerGraphAgent(\n",
        "  instance_id=INSTANCE_ID,\n",
        "  database_id=DATABASE_ID,\n",
        "  graph_id=GRAPH_ID,\n",
        "  model=DEFAULT_LLM_MODEL_NAME,\n",
        "  agent_config={\n",
        "    \"example_table\": GQL_EXAMPLE_TABLE or None,\n",
        "    \"embedding\": DEFAULT_EMBEDDING_MODEL_NAME,\n",
        "    \"verify_gql\": False,\n",
        "    \"log_level\": LOG_LEVEL,\n",
        "  },\n",
        "  planner=BuiltInPlanner(thinking_config=types.ThinkingConfig(thinking_budget=0)),\n",
        ")"
      ],
      "metadata": {
        "id": "S-nE64MLelTS",
        "colab": {
          "base_uri": "https://localhost:8080/"
        },
        "outputId": "d4ec096f-5535-4f69-d212-fb4f761d293d"
      },
      "execution_count": null,
      "outputs": [
        {
          "output_type": "stream",
          "name": "stdout",
          "text": [
            "Waiting for operation to complete...\n"
          ]
        },
        {
          "output_type": "stream",
          "name": "stderr",
          "text": [
            "/usr/local/lib/python3.11/dist-packages/vertexai/_model_garden/_model_garden_models.py:278: UserWarning: This feature is deprecated as of June 24, 2025 and will be removed on June 24, 2026. For details, see https://cloud.google.com/vertex-ai/generative-ai/docs/deprecations/genai-vertexai-sdk.\n",
            "  warning_logs.show_deprecation_warning()\n"
          ]
        }
      ]
    },
    {
      "cell_type": "code",
      "source": [
        "# @title Add a query example that demonstrates the basic GQL query\n",
        "EXAMPLE_USER_QUERY = \"Find persons that are employed by both companyNameA and companyNameB?\"   # @param {type:\"string\"}\n",
        "EXAMPLE_GQL_QUERY = \"\"\"\n",
        "GRAPH FinanceGraph\n",
        "-- `companyNameA` and `companyNameB` are both strings\n",
        "MATCH (company_a:Company {{name: \"companyNameA\"}}) <-[:worksAt]- (employee:Person),\n",
        " (company_b:Company {{name: \"companyNameB\"}}) <-[:worksAt]- (employee:Person)\n",
        "RETURN employee.name\n",
        "\"\"\"\n",
        "root_agent.gql_query_tool.add_example(user_query=EXAMPLE_USER_QUERY, gql=EXAMPLE_GQL_QUERY)"
      ],
      "metadata": {
        "id": "SqfqM_Oafl7L"
      },
      "execution_count": null,
      "outputs": []
    },
    {
      "cell_type": "code",
      "source": [
        "# @title Add a query example that demonstrates the GQL FILTER statement\n",
        "EXAMPLE_USER_QUERY = \"Which companies have more than 42 employees?\"   # @param {type:\"string\"}\n",
        "EXAMPLE_GQL_QUERY = \"\"\"\n",
        "GRAPH FinanceGraph\n",
        "MATCH (company:Company) <-[:worksAt]- (:Person)\n",
        "WITH company.name, COUNT(*) AS cnt\n",
        "FILTER cnt > 42\n",
        "RETURN company.name, cnt\n",
        "\"\"\"\n",
        "root_agent.gql_query_tool.add_example(user_query=EXAMPLE_USER_QUERY, gql=EXAMPLE_GQL_QUERY)"
      ],
      "metadata": {
        "id": "d8iZ9uaAgO74"
      },
      "execution_count": null,
      "outputs": []
    },
    {
      "cell_type": "code",
      "source": [
        "# @title Add a query example that demonstrates the GQL subquery\n",
        "EXAMPLE_USER_QUERY = \"Return persons who are not affiliated with companyNameXYZ\"   # @param {type:\"string\"}\n",
        "EXAMPLE_GQL_QUERY = \"\"\"\n",
        "GRAPH FinanceGraph\n",
        "MATCH (person:Person)\n",
        "WHERE NOT EXISTS {{\n",
        " MATCH (:Company {{name: \"companyNameXYZ\"}}) <-[:worksAt]- (employee:Person)\n",
        " WHERE employee = person -- use an explicit filter instead of redeclaring `person`\n",
        "}}\n",
        "RETURN n.name\n",
        "\"\"\"\n",
        "root_agent.gql_query_tool.add_example(user_query=EXAMPLE_USER_QUERY, gql=EXAMPLE_GQL_QUERY)"
      ],
      "metadata": {
        "id": "jghBCSZigst4"
      },
      "execution_count": null,
      "outputs": []
    },
    {
      "cell_type": "code",
      "source": [
        "# @title Revisit the example of incorrect GQL syntax\n",
        "\n",
        "QUERY = \"Which person invests into more than 10 companies?\"    # @param {type:\"string\"}\n",
        "\n",
        "with AgentSession(agent=root_agent, user_id=user_id) as session:\n",
        "  response =  await session.ainvoke(QUERY)\n",
        "  print(response.content.parts[0].text)"
      ],
      "metadata": {
        "colab": {
          "base_uri": "https://localhost:8080/"
        },
        "id": "bOwzW8vTNuHL",
        "outputId": "27b8f1af-8259-4307-8be5-8402126eb8ab"
      },
      "execution_count": null,
      "outputs": [
        {
          "output_type": "stream",
          "name": "stderr",
          "text": [
            "DEBUG:spanner_graph_agent.spanner_graph_agent.tools.langchain_tools:Input query: `Which person invests into more than 10 companies?`\n"
          ]
        },
        {
          "output_type": "stream",
          "name": "stdout",
          "text": [
            "\n",
            "\n",
            "\u001b[1m> Entering new SpannerGraphQAChain chain...\u001b[0m\n",
            "Executing gql:\n",
            "\u001b[32;1m\u001b[1;3mGRAPH FinanceGraph\n",
            "MATCH (person:Person) -[:ownsShare]-> (company:Company)\n",
            "WITH person.name AS person_name, COUNT(DISTINCT company) AS num_invested_companies\n",
            "FILTER num_invested_companies > 10\n",
            "RETURN person_name, num_invested_companies\u001b[0m\n",
            "Full Context:\n",
            "\u001b[32;1m\u001b[1;3m[{'person_name': 'Victoria Moore', 'num_invested_companies': 11}, {'person_name': 'Sarah Roberts', 'num_invested_companies': 11}, {'person_name': 'Tristan Horne', 'num_invested_companies': 11}, {'person_name': 'Michael Ferguson', 'num_invested_companies': 12}, {'person_name': 'Angela Thomas', 'num_invested_companies': 11}, {'person_name': 'Danielle Turner', 'num_invested_companies': 14}, {'person_name': 'Brian Martin', 'num_invested_companies': 11}, {'person_name': 'Nicholas Thompson', 'num_invested_companies': 12}, {'person_name': 'Michael Jones', 'num_invested_companies': 15}, {'person_name': 'Megan Terry', 'num_invested_companies': 16}, {'person_name': 'Lori Ross', 'num_invested_companies': 11}, {'person_name': 'Debra Bell', 'num_invested_companies': 11}, {'person_name': 'Amy Smith', 'num_invested_companies': 12}, {'person_name': 'Christopher Mitchell', 'num_invested_companies': 12}, {'person_name': 'Derrick Smith', 'num_invested_companies': 12}, {'person_name': 'Cheryl Mckinney', 'num_invested_companies': 12}, {'person_name': 'Michael Wheeler', 'num_invested_companies': 11}, {'person_name': 'Crystal Jones', 'num_invested_companies': 11}, {'person_name': 'Christopher Smith', 'num_invested_companies': 16}, {'person_name': 'Jennifer Robertson', 'num_invested_companies': 13}, {'person_name': 'Marcus Diaz', 'num_invested_companies': 14}, {'person_name': 'Alan Brown', 'num_invested_companies': 14}, {'person_name': 'John Willis', 'num_invested_companies': 14}, {'person_name': 'Marie Melendez', 'num_invested_companies': 12}, {'person_name': 'Mark Smith', 'num_invested_companies': 16}, {'person_name': 'John Nelson', 'num_invested_companies': 11}, {'person_name': 'Justin Jones', 'num_invested_companies': 12}, {'person_name': 'Steven Taylor', 'num_invested_companies': 11}, {'person_name': 'Charles Sanders', 'num_invested_companies': 12}, {'person_name': 'Jeffrey Davis', 'num_invested_companies': 13}, {'person_name': 'Kimberly Pierce', 'num_invested_companies': 13}, {'person_name': 'Alejandro Evans', 'num_invested_companies': 11}, {'person_name': 'Sarah Lee', 'num_invested_companies': 16}, {'person_name': 'Robin Henry', 'num_invested_companies': 12}, {'person_name': 'Austin Davis', 'num_invested_companies': 11}, {'person_name': 'Robert Camacho', 'num_invested_companies': 11}, {'person_name': 'Eric Lee', 'num_invested_companies': 13}, {'person_name': 'Sharon Davis', 'num_invested_companies': 11}, {'person_name': 'Jennifer Smith', 'num_invested_companies': 15}, {'person_name': 'Brendan Ferrell', 'num_invested_companies': 12}, {'person_name': 'Joseph Rodriguez', 'num_invested_companies': 14}, {'person_name': 'Michael Smith', 'num_invested_companies': 17}]\u001b[0m\n",
            "\n",
            "\u001b[1m> Finished chain.\u001b[0m\n",
            "Victoria Moore, Sarah Roberts, Tristan Horne, Michael Ferguson, Angela Thomas, Danielle Turner, Brian Martin, Nicholas Thompson, Michael Jones, Megan Terry, Lori Ross, Debra Bell, Amy Smith, Christopher Mitchell, Derrick Smith, Cheryl Mckinney, Michael Wheeler, Crystal Jones, Christopher Smith, Jennifer Robertson, Marcus Diaz, Alan Brown, John Willis, Marie Melendez, Mark Smith, John Nelson, Justin Jones, Steven Taylor, Charles Sanders, Jeffrey Davis, Kimberly Pierce, Alejandro Evans, Sarah Lee, Robin Henry, Austin Davis, Robert Camacho, Eric Lee, Sharon Davis, Jennifer Smith, Brendan Ferrell, Joseph Rodriguez, and Michael Smith invest into more than 10 companies.\n",
            "\n"
          ]
        }
      ]
    },
    {
      "cell_type": "markdown",
      "source": [
        "#### Challenges: LLM doesn't know the canonical reference\n",
        "\n",
        "The challenge: to be elaborate.\n",
        "- uncanonical reference\n",
        "- ambiguous reference\n",
        "\n",
        "The solution: to be elaborate.\n",
        "* Spanner has many built-in tools that can help us such as full-text search."
      ],
      "metadata": {
        "id": "EV-ZUxh5hkyf"
      }
    },
    {
      "cell_type": "code",
      "source": [
        "# @title Revisit the example of uncanonical and ambiguous reference\n",
        "\n",
        "QUERY = \"Show me about Aaron's employment?\"    # @param {type:\"string\"}\n",
        "\n",
        "with AgentSession(agent=root_agent, user_id=user_id) as session:\n",
        "  response =  await session.ainvoke(QUERY)\n",
        "  print(response.content.parts[0].text)"
      ],
      "metadata": {
        "id": "V0Txzcv4iFIN",
        "colab": {
          "base_uri": "https://localhost:8080/"
        },
        "outputId": "db1c1487-397d-426f-e73f-d646b08ed952"
      },
      "execution_count": null,
      "outputs": [
        {
          "output_type": "stream",
          "name": "stderr",
          "text": [
            "DEBUG:spanner_graph_agent.spanner_graph_agent.tools.langchain_tools:Input query: `Aaron's employment`\n"
          ]
        },
        {
          "output_type": "stream",
          "name": "stdout",
          "text": [
            "\n",
            "\n",
            "\u001b[1m> Entering new SpannerGraphQAChain chain...\u001b[0m\n",
            "Executing gql:\n",
            "\u001b[32;1m\u001b[1;3mGRAPH FinanceGraph\n",
            "MATCH (person:Person {name: \"Aaron\"}) -[:worksAt]-> (company:Company)\n",
            "RETURN company.name AS CompanyName\u001b[0m\n",
            "Full Context:\n",
            "\u001b[32;1m\u001b[1;3m[]\u001b[0m\n",
            "\n",
            "\u001b[1m> Finished chain.\u001b[0m\n",
            "I don't know the answer.\n"
          ]
        }
      ]
    },
    {
      "cell_type": "code",
      "source": [
        "# @title Show sample graph: there are multiple persons who named `Aaron`\n",
        "%%spanner_graph --project {PROJECT_ID} --instance {INSTANCE_ID} --database {DATABASE_ID}\n",
        "\n",
        "GRAPH FinanceGraph\n",
        "MATCH (p:Person)\n",
        "WHERE REGEXP_CONTAINS(p.name, 'Aaron')\n",
        "RETURN SAFE_TO_JSON(p) AS p"
      ],
      "metadata": {
        "id": "W58LQW3Ch2w0"
      },
      "execution_count": null,
      "outputs": []
    },
    {
      "cell_type": "code",
      "source": [
        "# @title Add a full-text search index to help resolve Person reference\n",
        "from google.cloud import spanner\n",
        "\n",
        "DATABASE = spanner.Client(project=PROJECT_ID).instance(INSTANCE_ID).database(DATABASE_ID)\n",
        "search_index_statements = [\n",
        "    \"ALTER TABLE Company ADD COLUMN IF NOT EXISTS name_token TOKENLIST AS (TOKENIZE_FULLTEXT(name)) HIDDEN\",\n",
        "    \"CREATE SEARCH INDEX CompanyNameSearchIndex ON Company(name_token)\",\n",
        "]\n",
        "try:\n",
        "  operation = DATABASE.update_ddl(search_index_statements)\n",
        "  operation.result()\n",
        "except Exception as e:\n",
        "  # Handle the case when search index already exists.\n",
        "  print(e)"
      ],
      "metadata": {
        "id": "L8ajubFBiZcl"
      },
      "execution_count": null,
      "outputs": []
    },
    {
      "cell_type": "code",
      "source": [
        "# @title Add a full-text search index to help resolve Person reference\n",
        "\n",
        "search_index_statements = [\n",
        "    \"ALTER TABLE Person ADD COLUMN IF NOT EXISTS name_token TOKENLIST AS (TOKENIZE_SUBSTRING(name, ngram_size_min=>3, ngram_size_max=>4)) HIDDEN\",\n",
        "    \"CREATE SEARCH INDEX PersonFullNameSearchIndex ON Person(name_token)\",\n",
        "]\n",
        "try:\n",
        "  operation = DATABASE.update_ddl(search_index_statements)\n",
        "  operation.result()\n",
        "except Exception as e:\n",
        "  # Handle the case when search index already exists.\n",
        "  print(e)"
      ],
      "metadata": {
        "id": "A-Xwga3HiJ-P"
      },
      "execution_count": null,
      "outputs": []
    },
    {
      "cell_type": "code",
      "source": [
        "# @title Build the Spanner Graph Agent with search indexes\n",
        "\n",
        "root_agent = SpannerGraphAgent(\n",
        "  instance_id=INSTANCE_ID,\n",
        "  database_id=DATABASE_ID,\n",
        "  graph_id=GRAPH_ID,\n",
        "  model=DEFAULT_LLM_MODEL_NAME,\n",
        "  agent_config={\n",
        "    \"example_table\": GQL_EXAMPLE_TABLE or None,\n",
        "    \"embedding\": DEFAULT_EMBEDDING_MODEL_NAME,\n",
        "    \"verify_gql\": False,\n",
        "    \"log_level\": LOG_LEVEL,\n",
        "  },\n",
        ")\n",
        "\n",
        "for tool in root_agent.tools:\n",
        "  print('============')\n",
        "  print(tool.name)\n",
        "  print(tool.description)"
      ],
      "metadata": {
        "id": "moY_UfWRiplf",
        "colab": {
          "base_uri": "https://localhost:8080/"
        },
        "outputId": "e5556178-0f71-4640-8009-3693a9a3e031"
      },
      "execution_count": null,
      "outputs": [
        {
          "output_type": "stream",
          "name": "stderr",
          "text": [
            "DEBUG:spanner_graph_agent.spanner_graph_agent.tools.index_tools:Built UserProvidedCompanyReference data model:\n",
            "{'properties': {'name': {'description': 'name of UserProvidedCompanyReference', 'title': 'Name', 'type': 'string'}}, 'required': ['name'], 'title': 'UserProvidedCompanyReference', 'type': 'object'}\n",
            "\n",
            "DEBUG:spanner_graph_agent.spanner_graph_agent.tools.index_tools:Built CompanyCanonicalReference data model:\n",
            "{'properties': {'id': {'description': 'id of CanonicalCompanyReference', 'title': 'Id', 'type': 'string'}}, 'required': ['id'], 'title': 'CanonicalCompanyReference', 'type': 'object'}\n",
            "\n",
            "DEBUG:spanner_graph_agent.spanner_graph_agent.tools.index_tools:Built search query:\n",
            "\n",
            "\n",
            "    SELECT id AS id\n",
            "    FROM Company\n",
            "    WHERE search(name_token, @name)\n",
            "    ORDER BY score(name_token, @name) + IF(name=@name, 1., 0.) DESC\n",
            "    LIMIT 2\n",
            "  \n",
            "\n",
            "\n",
            "DEBUG:spanner_graph_agent.spanner_graph_agent.tools.index_tools:Built example query:\n",
            "\n",
            "\n",
            "    SELECT id AS id, name AS name\n",
            "    FROM Company\n",
            "    TABLESAMPLE RESERVOIR (1 ROWS)\n",
            "    WHERE name IS NOT NULL\n",
            "  \n",
            "\n",
            "\n",
            "INFO:spanner_graph_agent.spanner_graph_agent.agents:Added a tool built for label `Company` from the index: CompanyNameSearchIndex\n",
            "DEBUG:spanner_graph_agent.spanner_graph_agent.tools.index_tools:Built UserProvidedPersonReference data model:\n",
            "{'properties': {'name': {'description': 'name of UserProvidedPersonReference', 'title': 'Name', 'type': 'string'}}, 'required': ['name'], 'title': 'UserProvidedPersonReference', 'type': 'object'}\n",
            "\n",
            "DEBUG:spanner_graph_agent.spanner_graph_agent.tools.index_tools:Built PersonCanonicalReference data model:\n",
            "{'properties': {'id': {'description': 'id of CanonicalPersonReference', 'title': 'Id', 'type': 'string'}}, 'required': ['id'], 'title': 'CanonicalPersonReference', 'type': 'object'}\n",
            "\n",
            "DEBUG:spanner_graph_agent.spanner_graph_agent.tools.index_tools:Built search query:\n",
            "\n",
            "\n",
            "    SELECT id AS id\n",
            "    FROM Person\n",
            "    WHERE search_substring(name_token, @name)\n",
            "    ORDER BY score_ngrams(name_token, @name) + IF(name=@name, 1., 0.) DESC\n",
            "    LIMIT 2\n",
            "  \n",
            "\n",
            "\n",
            "DEBUG:spanner_graph_agent.spanner_graph_agent.tools.index_tools:Built example query:\n",
            "\n",
            "\n",
            "    SELECT id AS id, name AS name\n",
            "    FROM Person\n",
            "    TABLESAMPLE RESERVOIR (1 ROWS)\n",
            "    WHERE name IS NOT NULL\n",
            "  \n",
            "\n",
            "\n",
            "INFO:spanner_graph_agent.spanner_graph_agent.agents:Added a tool built for label `Person` from the index: PersonFullNameSearchIndex\n"
          ]
        },
        {
          "output_type": "stream",
          "name": "stdout",
          "text": [
            "Waiting for operation to complete...\n"
          ]
        },
        {
          "output_type": "stream",
          "name": "stderr",
          "text": [
            "/usr/local/lib/python3.11/dist-packages/vertexai/_model_garden/_model_garden_models.py:278: UserWarning: This feature is deprecated as of June 24, 2025 and will be removed on June 24, 2026. For details, see https://cloud.google.com/vertex-ai/generative-ai/docs/deprecations/genai-vertexai-sdk.\n",
            "  warning_logs.show_deprecation_warning()\n",
            "INFO:spanner_graph_agent.spanner_graph_agent.agents:Tool: resolve_Company_id_by_name\n",
            "Description: Resolves the canonical {'id'} of Company using given {'name'}.\n",
            "\n",
            "Input: a list of reference in original query represented by UserProvidedCompanyReference(name: string);\n",
            "Output: a mapping to the corresponding canonical references represented by CanonicalCompanyReference(id: string).\n",
            "\n",
            "\n",
            "For example,\n",
            "  Given UserProvidedCompanyReference(name='Garrett-Maldonado'), this tool may return a mapping to [CanonicalCompanyReference(id='c2681')].\n",
            "  [CanonicalCompanyReference(id='c2681')] should be used in subsequent queries to the knowledge graph.\n",
            "\n",
            "\n",
            "This tool convert user-provided references (names, descriptions, titles, etc.)\n",
            "into their corresponding canonical identifiers. The output of these tools\n",
            "(the canonical ID) must be used in subsequent queries to the knowledge graph.\n",
            "\n",
            "Sometimes there are more than one canonical references returned for a user-provided reference\n",
            "if disambiguation is needed.\n",
            "\n",
            "\n",
            "INFO:spanner_graph_agent.spanner_graph_agent.agents:Tool: resolve_Person_id_by_name\n",
            "Description: Resolves the canonical {'id'} of Person using given {'name'}.\n",
            "\n",
            "Input: a list of reference in original query represented by UserProvidedPersonReference(name: string);\n",
            "Output: a mapping to the corresponding canonical references represented by CanonicalPersonReference(id: string).\n",
            "\n",
            "\n",
            "For example,\n",
            "  Given UserProvidedPersonReference(name='Grant Ray'), this tool may return a mapping to [CanonicalPersonReference(id='p2511')].\n",
            "  [CanonicalPersonReference(id='p2511')] should be used in subsequent queries to the knowledge graph.\n",
            "\n",
            "\n",
            "This tool convert user-provided references (names, descriptions, titles, etc.)\n",
            "into their corresponding canonical identifiers. The output of these tools\n",
            "(the canonical ID) must be used in subsequent queries to the knowledge graph.\n",
            "\n",
            "Sometimes there are more than one canonical references returned for a user-provided reference\n",
            "if disambiguation is needed.\n",
            "\n",
            "\n"
          ]
        },
        {
          "output_type": "stream",
          "name": "stdout",
          "text": [
            "============\n",
            "resolve_Company_id_by_name\n",
            "Resolves the canonical {'id'} of Company using given {'name'}.\n",
            "\n",
            "Input: a list of reference in original query represented by UserProvidedCompanyReference(name: string);\n",
            "Output: a mapping to the corresponding canonical references represented by CanonicalCompanyReference(id: string).\n",
            "\n",
            "\n",
            "For example,\n",
            "  Given UserProvidedCompanyReference(name='Garrett-Maldonado'), this tool may return a mapping to [CanonicalCompanyReference(id='c2681')].\n",
            "  [CanonicalCompanyReference(id='c2681')] should be used in subsequent queries to the knowledge graph.\n",
            "\n",
            "\n",
            "This tool convert user-provided references (names, descriptions, titles, etc.)\n",
            "into their corresponding canonical identifiers. The output of these tools\n",
            "(the canonical ID) must be used in subsequent queries to the knowledge graph.\n",
            "\n",
            "Sometimes there are more than one canonical references returned for a user-provided reference\n",
            "if disambiguation is needed.\n",
            "============\n",
            "resolve_Person_id_by_name\n",
            "Resolves the canonical {'id'} of Person using given {'name'}.\n",
            "\n",
            "Input: a list of reference in original query represented by UserProvidedPersonReference(name: string);\n",
            "Output: a mapping to the corresponding canonical references represented by CanonicalPersonReference(id: string).\n",
            "\n",
            "\n",
            "For example,\n",
            "  Given UserProvidedPersonReference(name='Grant Ray'), this tool may return a mapping to [CanonicalPersonReference(id='p2511')].\n",
            "  [CanonicalPersonReference(id='p2511')] should be used in subsequent queries to the knowledge graph.\n",
            "\n",
            "\n",
            "This tool convert user-provided references (names, descriptions, titles, etc.)\n",
            "into their corresponding canonical identifiers. The output of these tools\n",
            "(the canonical ID) must be used in subsequent queries to the knowledge graph.\n",
            "\n",
            "Sometimes there are more than one canonical references returned for a user-provided reference\n",
            "if disambiguation is needed.\n",
            "============\n",
            "SpannerGraphQueryQATool\n",
            "\n",
            "Answer user query by talking to the knowledge graph stored in Spanner Graph.\n",
            "\n",
            "The knowledge graph contains rich knowledge about the following node types:\n",
            "  [\n",
            " \"MutualFund\",\n",
            " \"Person\",\n",
            " \"Company\"\n",
            "]\n",
            "and the following relationships among the nodes:\n",
            "  [\n",
            " [\n",
            "  \"MutualFund\",\n",
            "  \"ownsShare\",\n",
            "  \"Company\"\n",
            " ],\n",
            " [\n",
            "  \"Person\",\n",
            "  \"ownsShare\",\n",
            "  \"Company\"\n",
            " ],\n",
            " [\n",
            "  \"Company\",\n",
            "  \"ownsShare\",\n",
            "  \"Company\"\n",
            " ],\n",
            " [\n",
            "  \"Person\",\n",
            "  \"worksAt\",\n",
            "  \"Company\"\n",
            " ]\n",
            "]\n",
            "\n",
            "This tool can directly access and query the knowledge graph. All user queries,\n",
            "after necessary node or relationship resolutions, must be passed to this tool\n",
            "to retrieve information.\n",
            "\n",
            "NOTE:\n",
            "\n",
            "* For questions with explicit node or relationships references in the graph,\n",
            "  this tool requires canonical references to the nodes and relationships\n",
            "  for optimal performance and accurate results.\n",
            "\n",
            "* BEFORE passing ANY query to this tool, FIRST and ALWAYS check if the query\n",
            "  contains any potential references to nodes or relationships: if so, you MUST\n",
            "  use the appropriate tool to obtain the canonical references.\n",
            "  Only then should you formulate the input to this tool using\n",
            "  these canonical references.\n",
            "\n",
            "* The input to this tool must explicitly refers to canonical references by\n",
            "  both the names and the values of the referenced fields.\n",
            "    For example, Node(id='abc') rather than just Node('abc').\n",
            "    Otherwise this tool don't know which fields to query against.\n",
            "\n",
            "* For queries that do not contains any specific node or relationship\n",
            "  references, the tool can directly execute the corresponding graph query\n",
            "  without requiring canonical references.\n",
            "\n"
          ]
        }
      ]
    },
    {
      "cell_type": "code",
      "source": [
        "# @title Revisit the example of uncanonical and ambiguous reference\n",
        "\n",
        "QUERY = \"Show me about Aaron's employment?\"    # @param {type:\"string\"}\n",
        "FOLLOWUP_QUERY = \"I'm talking about Aaron Cain\"    # @param {type:\"string\"}\n",
        "\n",
        "with AgentSession(agent=root_agent, user_id=user_id) as session:\n",
        "  response =  await session.ainvoke(QUERY)\n",
        "  print(response.content.parts[0].text)\n",
        "\n",
        "  response =  await session.ainvoke(FOLLOWUP_QUERY)\n",
        "  print(response.content.parts[0].text)"
      ],
      "metadata": {
        "id": "2LLTTyrAqExM",
        "colab": {
          "base_uri": "https://localhost:8080/"
        },
        "outputId": "6d1220d0-cc86-4a80-c99a-41a6de0928bc"
      },
      "execution_count": null,
      "outputs": [
        {
          "output_type": "stream",
          "name": "stderr",
          "text": [
            "DEBUG:spanner_graph_agent.spanner_graph_agent.tools.index_tools:Resolving: [UserProvidedPersonReference(name='Aaron')]...\n",
            "DEBUG:spanner_graph_agent.spanner_graph_agent.tools.index_tools:Resolved reference_mappings: [ReferenceMapping(reference_in_user_query=UserProvidedPersonReference(name='Aaron'), canonical_references=[CanonicalPersonReference(id='p3718'), CanonicalPersonReference(id='p2063')])]\n"
          ]
        },
        {
          "output_type": "stream",
          "name": "stdout",
          "text": [
            "There are two persons named Aaron, which one are you looking for?\n",
            "* Aaron (ID: p3718)\n",
            "* Aaron (ID: p2063)\n"
          ]
        },
        {
          "output_type": "stream",
          "name": "stderr",
          "text": [
            "DEBUG:spanner_graph_agent.spanner_graph_agent.tools.index_tools:Resolving: [UserProvidedPersonReference(name='Aaron Cain')]...\n",
            "DEBUG:spanner_graph_agent.spanner_graph_agent.tools.index_tools:Resolved reference_mappings: [ReferenceMapping(reference_in_user_query=UserProvidedPersonReference(name='Aaron Cain'), canonical_references=[CanonicalPersonReference(id='p891')])]\n",
            "DEBUG:spanner_graph_agent.spanner_graph_agent.tools.langchain_tools:Input query: `What is the employment of Person(id='p891')?`\n"
          ]
        },
        {
          "output_type": "stream",
          "name": "stdout",
          "text": [
            "\n",
            "\n",
            "\u001b[1m> Entering new SpannerGraphQAChain chain...\u001b[0m\n",
            "Executing gql:\n",
            "\u001b[32;1m\u001b[1;3mGRAPH FinanceGraph\n",
            "MATCH (p:Person {id: \"p891\"}) -[w:worksAt]-> (c:Company)\n",
            "RETURN c.name AS companyName, w.job_title AS jobTitle\u001b[0m\n",
            "Full Context:\n",
            "\u001b[32;1m\u001b[1;3m[{'companyName': 'Lopez PLC', 'jobTitle': 'Microbiologist'}, {'companyName': 'Brown LLC', 'jobTitle': 'Naval architect'}, {'companyName': 'Levine LLC', 'jobTitle': 'Education administrator'}, {'companyName': 'Phillips-Smith', 'jobTitle': 'Presenter, broadcasting'}, {'companyName': 'Rojas, Moon and Glover', 'jobTitle': 'Industrial/product designer'}, {'companyName': 'Cole Inc', 'jobTitle': 'Counsellor'}, {'companyName': 'Williams PLC', 'jobTitle': 'Energy manager'}, {'companyName': 'Hoffman-Martinez', 'jobTitle': 'Patent attorney'}, {'companyName': 'Humphrey LLC', 'jobTitle': 'Printmaker'}, {'companyName': 'Pineda, Aguilar and Howard', 'jobTitle': 'Field trials officer'}]\u001b[0m\n",
            "\n",
            "\u001b[1m> Finished chain.\u001b[0m\n",
            "Person(id='p891') is employed as a Microbiologist at Lopez PLC, a Naval architect at Brown LLC, an Education administrator at Levine LLC, a Presenter, broadcasting at Phillips-Smith, an Industrial/product designer at Rojas, Moon and Glover, a Counsellor at Cole Inc, an Energy manager at Williams PLC, a Patent attorney at Hoffman-Martinez, a Printmaker at Humphrey LLC, and a Field trials officer at Pineda, Aguilar and Howard.\n"
          ]
        }
      ]
    }
  ]
}